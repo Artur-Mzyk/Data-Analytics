{
 "cells": [
  {
   "attachments": {},
   "cell_type": "markdown",
   "metadata": {},
   "source": [
    "# ***Lab 3 - Prior and Posterior predictive distributions***"
   ]
  },
  {
   "cell_type": "code",
   "execution_count": 10,
   "metadata": {},
   "outputs": [],
   "source": [
    "import pandas as pd\n",
    "import arviz as az \n",
    "import numpy as np\n",
    "import matplotlib.pyplot as plt\n",
    "import scipy.stats as stats\n",
    "import seaborn as sns\n",
    "\n",
    "from cmdstanpy import CmdStanModel"
   ]
  },
  {
   "attachments": {},
   "cell_type": "markdown",
   "metadata": {},
   "source": [
    "## Modeling prior predictive distribution"
   ]
  },
  {
   "cell_type": "code",
   "execution_count": 101,
   "metadata": {},
   "outputs": [
    {
     "name": "stderr",
     "output_type": "stream",
     "text": [
      "INFO:cmdstanpy:compiling stan file /home/Lab3/code_1.stan to exe file /home/Lab3/code_1\n",
      "INFO:cmdstanpy:compiled model executable: /home/Lab3/code_1\n"
     ]
    }
   ],
   "source": [
    "gen_quant1 = CmdStanModel(stan_file=\"code_1.stan\")"
   ]
  },
  {
   "cell_type": "code",
   "execution_count": 102,
   "metadata": {},
   "outputs": [
    {
     "name": "stderr",
     "output_type": "stream",
     "text": [
      "INFO:cmdstanpy:CmdStan start processing\n",
      "chain 1 |\u001b[34m██████████\u001b[0m| 00:00 Sampling completed"
     ]
    },
    {
     "name": "stdout",
     "output_type": "stream",
     "text": [
      "                                                                                "
     ]
    },
    {
     "name": "stderr",
     "output_type": "stream",
     "text": [
      "\n",
      "INFO:cmdstanpy:CmdStan done processing.\n"
     ]
    },
    {
     "name": "stdout",
     "output_type": "stream",
     "text": [
      "\n"
     ]
    },
    {
     "data": {
      "text/html": [
       "<div>\n",
       "<style scoped>\n",
       "    .dataframe tbody tr th:only-of-type {\n",
       "        vertical-align: middle;\n",
       "    }\n",
       "\n",
       "    .dataframe tbody tr th {\n",
       "        vertical-align: top;\n",
       "    }\n",
       "\n",
       "    .dataframe thead th {\n",
       "        text-align: right;\n",
       "    }\n",
       "</style>\n",
       "<table border=\"1\" class=\"dataframe\">\n",
       "  <thead>\n",
       "    <tr style=\"text-align: right;\">\n",
       "      <th></th>\n",
       "      <th>lp__</th>\n",
       "      <th>accept_stat__</th>\n",
       "      <th>y</th>\n",
       "      <th>p</th>\n",
       "    </tr>\n",
       "  </thead>\n",
       "  <tbody>\n",
       "    <tr>\n",
       "      <th>0</th>\n",
       "      <td>0.0</td>\n",
       "      <td>0.0</td>\n",
       "      <td>24.0</td>\n",
       "      <td>0.551112</td>\n",
       "    </tr>\n",
       "    <tr>\n",
       "      <th>1</th>\n",
       "      <td>0.0</td>\n",
       "      <td>0.0</td>\n",
       "      <td>13.0</td>\n",
       "      <td>0.317981</td>\n",
       "    </tr>\n",
       "    <tr>\n",
       "      <th>2</th>\n",
       "      <td>0.0</td>\n",
       "      <td>0.0</td>\n",
       "      <td>19.0</td>\n",
       "      <td>0.259301</td>\n",
       "    </tr>\n",
       "    <tr>\n",
       "      <th>3</th>\n",
       "      <td>0.0</td>\n",
       "      <td>0.0</td>\n",
       "      <td>1.0</td>\n",
       "      <td>0.056666</td>\n",
       "    </tr>\n",
       "    <tr>\n",
       "      <th>4</th>\n",
       "      <td>0.0</td>\n",
       "      <td>0.0</td>\n",
       "      <td>11.0</td>\n",
       "      <td>0.199329</td>\n",
       "    </tr>\n",
       "    <tr>\n",
       "      <th>...</th>\n",
       "      <td>...</td>\n",
       "      <td>...</td>\n",
       "      <td>...</td>\n",
       "      <td>...</td>\n",
       "    </tr>\n",
       "    <tr>\n",
       "      <th>995</th>\n",
       "      <td>0.0</td>\n",
       "      <td>0.0</td>\n",
       "      <td>9.0</td>\n",
       "      <td>0.241370</td>\n",
       "    </tr>\n",
       "    <tr>\n",
       "      <th>996</th>\n",
       "      <td>0.0</td>\n",
       "      <td>0.0</td>\n",
       "      <td>8.0</td>\n",
       "      <td>0.158783</td>\n",
       "    </tr>\n",
       "    <tr>\n",
       "      <th>997</th>\n",
       "      <td>0.0</td>\n",
       "      <td>0.0</td>\n",
       "      <td>5.0</td>\n",
       "      <td>0.112291</td>\n",
       "    </tr>\n",
       "    <tr>\n",
       "      <th>998</th>\n",
       "      <td>0.0</td>\n",
       "      <td>0.0</td>\n",
       "      <td>0.0</td>\n",
       "      <td>0.014352</td>\n",
       "    </tr>\n",
       "    <tr>\n",
       "      <th>999</th>\n",
       "      <td>0.0</td>\n",
       "      <td>0.0</td>\n",
       "      <td>4.0</td>\n",
       "      <td>0.050373</td>\n",
       "    </tr>\n",
       "  </tbody>\n",
       "</table>\n",
       "<p>1000 rows × 4 columns</p>\n",
       "</div>"
      ],
      "text/plain": [
       "     lp__  accept_stat__     y         p\n",
       "0     0.0            0.0  24.0  0.551112\n",
       "1     0.0            0.0  13.0  0.317981\n",
       "2     0.0            0.0  19.0  0.259301\n",
       "3     0.0            0.0   1.0  0.056666\n",
       "4     0.0            0.0  11.0  0.199329\n",
       "..    ...            ...   ...       ...\n",
       "995   0.0            0.0   9.0  0.241370\n",
       "996   0.0            0.0   8.0  0.158783\n",
       "997   0.0            0.0   5.0  0.112291\n",
       "998   0.0            0.0   0.0  0.014352\n",
       "999   0.0            0.0   4.0  0.050373\n",
       "\n",
       "[1000 rows x 4 columns]"
      ]
     },
     "execution_count": 102,
     "metadata": {},
     "output_type": "execute_result"
    }
   ],
   "source": [
    "N, alpha, beta = 50, 2, 8\n",
    "samples1 = gen_quant1.sample(data={\"N\": N, \"alpha_\": alpha, \"beta_\": beta}, fixed_param=True, iter_sampling=1000, iter_warmup=0, chains=1)\n",
    "samples1_df = samples1.draws_pd()\n",
    "samples1_df"
   ]
  },
  {
   "cell_type": "code",
   "execution_count": 103,
   "metadata": {},
   "outputs": [
    {
     "data": {
      "image/png": "[encoded data removed]",
      "text/plain": [
       "<Figure size 1728x576 with 3 Axes>"
      ]
     },
     "metadata": {
      "needs_background": "light"
     },
     "output_type": "display_data"
    },
    {
     "name": "stdout",
     "output_type": "stream",
     "text": [
      "Mean p: 0.19887429492\n",
      "Mean ratio: 0.19772000000000003\n",
      "\n"
     ]
    }
   ],
   "source": [
    "samples1_df[\"ratio\"] = samples1_df[\"y\"] / N\n",
    "mean_p = samples1_df[\"p\"].mean()\n",
    "mean_ratio = samples1_df[\"ratio\"].mean()\n",
    "\n",
    "_, ax = plt.subplots(1, 3, figsize=(24, 8))\n",
    "sns.histplot(data=samples1_df, x=\"y\", stat=\"density\", ax=ax[0])\n",
    "ax[0].grid()\n",
    "sns.histplot(data=samples1_df, x=\"p\", stat=\"density\", ax=ax[1])\n",
    "ax[1].axvline(mean_ratio, color=\"r\")\n",
    "ax[1].grid()\n",
    "sns.histplot(data=samples1_df, x=\"ratio\", stat=\"density\", ax=ax[2])\n",
    "ax[2].axvline(mean_p, color=\"r\")\n",
    "ax[2].grid()\n",
    "plt.show()\n",
    "\n",
    "print(f\"Mean p: {mean_p}\\nMean ratio: {mean_ratio}\\n\")"
   ]
  },
  {
   "attachments": {},
   "cell_type": "markdown",
   "metadata": {},
   "source": [
    "***The mean ratio is approximately equal to the average a priori, i.e. $\\mu=0.2$. It prompts that the built model is proper.***"
   ]
  },
  {
   "attachments": {},
   "cell_type": "markdown",
   "metadata": {},
   "source": [
    "## Modeling posterior and posterior predictive distribution"
   ]
  },
  {
   "cell_type": "code",
   "execution_count": 104,
   "metadata": {},
   "outputs": [
    {
     "name": "stderr",
     "output_type": "stream",
     "text": [
      "INFO:cmdstanpy:compiling stan file /home/Lab3/code_2.stan to exe file /home/Lab3/code_2\n",
      "INFO:cmdstanpy:compiled model executable: /home/Lab3/code_2\n"
     ]
    }
   ],
   "source": [
    "gen_quant2 = CmdStanModel(stan_file=\"code_2.stan\")"
   ]
  },
  {
   "cell_type": "code",
   "execution_count": 106,
   "metadata": {},
   "outputs": [
    {
     "name": "stderr",
     "output_type": "stream",
     "text": [
      "INFO:cmdstanpy:CmdStan start processing\n",
      "chain 1 |\u001b[33m          \u001b[0m| 00:00 Status\n",
      "\u001b[A\n",
      "\n",
      "\u001b[A\u001b[A\n",
      "\u001b[A\n",
      "\n",
      "chain 1 |\u001b[34m██████████\u001b[0m| 00:00 Sampling completed\n",
      "chain 2 |\u001b[34m██████████\u001b[0m| 00:00 Sampling completed\n",
      "chain 3 |\u001b[34m██████████\u001b[0m| 00:00 Sampling completed\n",
      "chain 4 |\u001b[34m██████████\u001b[0m| 00:00 Sampling completed                     \n"
     ]
    },
    {
     "name": "stdout",
     "output_type": "stream",
     "text": [
      "                                                                                                                                                                                                                                                                                                                                "
     ]
    },
    {
     "name": "stderr",
     "output_type": "stream",
     "text": [
      "INFO:cmdstanpy:CmdStan done processing.\n"
     ]
    },
    {
     "name": "stdout",
     "output_type": "stream",
     "text": [
      "\n"
     ]
    },
    {
     "data": {
      "text/html": [
       "<div>\n",
       "<style scoped>\n",
       "    .dataframe tbody tr th:only-of-type {\n",
       "        vertical-align: middle;\n",
       "    }\n",
       "\n",
       "    .dataframe tbody tr th {\n",
       "        vertical-align: top;\n",
       "    }\n",
       "\n",
       "    .dataframe thead th {\n",
       "        text-align: right;\n",
       "    }\n",
       "</style>\n",
       "<table border=\"1\" class=\"dataframe\">\n",
       "  <thead>\n",
       "    <tr style=\"text-align: right;\">\n",
       "      <th></th>\n",
       "      <th>lp__</th>\n",
       "      <th>accept_stat__</th>\n",
       "      <th>stepsize__</th>\n",
       "      <th>treedepth__</th>\n",
       "      <th>n_leapfrog__</th>\n",
       "      <th>divergent__</th>\n",
       "      <th>energy__</th>\n",
       "      <th>p</th>\n",
       "      <th>y_pred</th>\n",
       "    </tr>\n",
       "  </thead>\n",
       "  <tbody>\n",
       "    <tr>\n",
       "      <th>0</th>\n",
       "      <td>-26.2329</td>\n",
       "      <td>0.839389</td>\n",
       "      <td>0.960294</td>\n",
       "      <td>1.0</td>\n",
       "      <td>3.0</td>\n",
       "      <td>0.0</td>\n",
       "      <td>27.2066</td>\n",
       "      <td>0.217271</td>\n",
       "      <td>9.0</td>\n",
       "    </tr>\n",
       "    <tr>\n",
       "      <th>1</th>\n",
       "      <td>-26.2329</td>\n",
       "      <td>0.911475</td>\n",
       "      <td>0.960294</td>\n",
       "      <td>1.0</td>\n",
       "      <td>1.0</td>\n",
       "      <td>0.0</td>\n",
       "      <td>26.6383</td>\n",
       "      <td>0.217271</td>\n",
       "      <td>9.0</td>\n",
       "    </tr>\n",
       "    <tr>\n",
       "      <th>2</th>\n",
       "      <td>-26.2329</td>\n",
       "      <td>0.494334</td>\n",
       "      <td>0.960294</td>\n",
       "      <td>1.0</td>\n",
       "      <td>1.0</td>\n",
       "      <td>0.0</td>\n",
       "      <td>27.6371</td>\n",
       "      <td>0.217271</td>\n",
       "      <td>11.0</td>\n",
       "    </tr>\n",
       "    <tr>\n",
       "      <th>3</th>\n",
       "      <td>-25.5842</td>\n",
       "      <td>1.000000</td>\n",
       "      <td>0.960294</td>\n",
       "      <td>1.0</td>\n",
       "      <td>1.0</td>\n",
       "      <td>0.0</td>\n",
       "      <td>26.0440</td>\n",
       "      <td>0.182377</td>\n",
       "      <td>8.0</td>\n",
       "    </tr>\n",
       "    <tr>\n",
       "      <th>4</th>\n",
       "      <td>-25.4300</td>\n",
       "      <td>0.965641</td>\n",
       "      <td>0.960294</td>\n",
       "      <td>1.0</td>\n",
       "      <td>3.0</td>\n",
       "      <td>0.0</td>\n",
       "      <td>25.7975</td>\n",
       "      <td>0.133593</td>\n",
       "      <td>10.0</td>\n",
       "    </tr>\n",
       "    <tr>\n",
       "      <th>...</th>\n",
       "      <td>...</td>\n",
       "      <td>...</td>\n",
       "      <td>...</td>\n",
       "      <td>...</td>\n",
       "      <td>...</td>\n",
       "      <td>...</td>\n",
       "      <td>...</td>\n",
       "      <td>...</td>\n",
       "      <td>...</td>\n",
       "    </tr>\n",
       "    <tr>\n",
       "      <th>3995</th>\n",
       "      <td>-25.3643</td>\n",
       "      <td>0.998546</td>\n",
       "      <td>0.930143</td>\n",
       "      <td>1.0</td>\n",
       "      <td>3.0</td>\n",
       "      <td>0.0</td>\n",
       "      <td>25.9914</td>\n",
       "      <td>0.152767</td>\n",
       "      <td>10.0</td>\n",
       "    </tr>\n",
       "    <tr>\n",
       "      <th>3996</th>\n",
       "      <td>-25.3873</td>\n",
       "      <td>0.895678</td>\n",
       "      <td>0.930143</td>\n",
       "      <td>2.0</td>\n",
       "      <td>3.0</td>\n",
       "      <td>0.0</td>\n",
       "      <td>26.1095</td>\n",
       "      <td>0.139941</td>\n",
       "      <td>5.0</td>\n",
       "    </tr>\n",
       "    <tr>\n",
       "      <th>3997</th>\n",
       "      <td>-25.3731</td>\n",
       "      <td>0.993651</td>\n",
       "      <td>0.930143</td>\n",
       "      <td>2.0</td>\n",
       "      <td>3.0</td>\n",
       "      <td>0.0</td>\n",
       "      <td>25.4410</td>\n",
       "      <td>0.156771</td>\n",
       "      <td>5.0</td>\n",
       "    </tr>\n",
       "    <tr>\n",
       "      <th>3998</th>\n",
       "      <td>-25.4237</td>\n",
       "      <td>0.957835</td>\n",
       "      <td>0.930143</td>\n",
       "      <td>2.0</td>\n",
       "      <td>3.0</td>\n",
       "      <td>0.0</td>\n",
       "      <td>25.6344</td>\n",
       "      <td>0.134363</td>\n",
       "      <td>6.0</td>\n",
       "    </tr>\n",
       "    <tr>\n",
       "      <th>3999</th>\n",
       "      <td>-25.3942</td>\n",
       "      <td>0.940926</td>\n",
       "      <td>0.930143</td>\n",
       "      <td>2.0</td>\n",
       "      <td>3.0</td>\n",
       "      <td>0.0</td>\n",
       "      <td>25.9169</td>\n",
       "      <td>0.161840</td>\n",
       "      <td>11.0</td>\n",
       "    </tr>\n",
       "  </tbody>\n",
       "</table>\n",
       "<p>4000 rows × 9 columns</p>\n",
       "</div>"
      ],
      "text/plain": [
       "         lp__  accept_stat__  stepsize__  treedepth__  n_leapfrog__  \\\n",
       "0    -26.2329       0.839389    0.960294          1.0           3.0   \n",
       "1    -26.2329       0.911475    0.960294          1.0           1.0   \n",
       "2    -26.2329       0.494334    0.960294          1.0           1.0   \n",
       "3    -25.5842       1.000000    0.960294          1.0           1.0   \n",
       "4    -25.4300       0.965641    0.960294          1.0           3.0   \n",
       "...       ...            ...         ...          ...           ...   \n",
       "3995 -25.3643       0.998546    0.930143          1.0           3.0   \n",
       "3996 -25.3873       0.895678    0.930143          2.0           3.0   \n",
       "3997 -25.3731       0.993651    0.930143          2.0           3.0   \n",
       "3998 -25.4237       0.957835    0.930143          2.0           3.0   \n",
       "3999 -25.3942       0.940926    0.930143          2.0           3.0   \n",
       "\n",
       "      divergent__  energy__         p  y_pred  \n",
       "0             0.0   27.2066  0.217271     9.0  \n",
       "1             0.0   26.6383  0.217271     9.0  \n",
       "2             0.0   27.6371  0.217271    11.0  \n",
       "3             0.0   26.0440  0.182377     8.0  \n",
       "4             0.0   25.7975  0.133593    10.0  \n",
       "...           ...       ...       ...     ...  \n",
       "3995          0.0   25.9914  0.152767    10.0  \n",
       "3996          0.0   26.1095  0.139941     5.0  \n",
       "3997          0.0   25.4410  0.156771     5.0  \n",
       "3998          0.0   25.6344  0.134363     6.0  \n",
       "3999          0.0   25.9169  0.161840    11.0  \n",
       "\n",
       "[4000 rows x 9 columns]"
      ]
     },
     "execution_count": 106,
     "metadata": {},
     "output_type": "execute_result"
    }
   ],
   "source": [
    "N, y, alpha_, beta_ = 50, 7, 2, 8\n",
    "samples2 = gen_quant2.sample(data={\"N\": N, \"y\": y, \"alpha_\": alpha_, \"beta_\": beta_})\n",
    "samples2_df = samples2.draws_pd()\n",
    "samples2_df"
   ]
  },
  {
   "cell_type": "code",
   "execution_count": 107,
   "metadata": {},
   "outputs": [
    {
     "data": {
      "image/png": "[encoded data removed]",
      "text/plain": [
       "<Figure size 1728x576 with 3 Axes>"
      ]
     },
     "metadata": {
      "needs_background": "light"
     },
     "output_type": "display_data"
    },
    {
     "name": "stdout",
     "output_type": "stream",
     "text": [
      "Mean p: 0.1491400309\n",
      "Mean ratio: 0.148625\n"
     ]
    }
   ],
   "source": [
    "samples2_df[\"ratio\"] = samples2_df[\"y_pred\"] / N\n",
    "mean_p = samples2_df[\"p\"].mean()\n",
    "mean_ratio = samples2_df[\"ratio\"].mean()\n",
    "\n",
    "_, ax = plt.subplots(1, 3, figsize=(24, 8))\n",
    "sns.histplot(data=samples2_df, x=\"y_pred\", stat=\"density\", ax=ax[0])\n",
    "ax[0].grid()\n",
    "sns.histplot(data=samples2_df, x=\"p\", stat=\"density\", ax=ax[1])\n",
    "ax[1].axvline(mean_ratio, color=\"r\")\n",
    "ax[1].grid()\n",
    "sns.histplot(data=samples2_df, x=\"ratio\", stat=\"density\", ax=ax[2])\n",
    "ax[2].axvline(mean_p, color=\"r\")\n",
    "ax[2].grid()\n",
    "plt.show()\n",
    "\n",
    "print(f\"Mean p: {mean_p}\\nMean ratio: {mean_ratio}\")"
   ]
  },
  {
   "attachments": {},
   "cell_type": "markdown",
   "metadata": {},
   "source": [
    "***Judging by the histograms and the calculations one may notice that the mean of the distribution has been reallocated. New samples has a significant impact on that.***"
   ]
  },
  {
   "cell_type": "code",
   "execution_count": 112,
   "metadata": {},
   "outputs": [
    {
     "data": {
      "image/png": "[encoded data removed]",
      "text/plain": [
       "<Figure size 1152x576 with 2 Axes>"
      ]
     },
     "metadata": {
      "needs_background": "light"
     },
     "output_type": "display_data"
    }
   ],
   "source": [
    "_, ax = plt.subplots(1, 2, figsize=(16, 8))\n",
    "az.plot_posterior(samples2_df[\"p\"].to_numpy(), kind='hist', hdi_prob=0.94, point_estimate='mean', ax=ax[0])\n",
    "ax[0].set_title(\"p\")\n",
    "az.plot_posterior(samples2_df[\"ratio\"].to_numpy(), kind='hist', hdi_prob=0.94, point_estimate='mean', ax=ax[1])\n",
    "ax[1].set_title(\"ratio\")\n",
    "plt.show()"
   ]
  },
  {
   "cell_type": "code",
   "execution_count": 115,
   "metadata": {},
   "outputs": [
    {
     "name": "stdout",
     "output_type": "stream",
     "text": [
      "[p]\n",
      "Mean: 0.1491400309, 94 % HDI: [0.0673038 0.230127 ]\n",
      "\n",
      "[Ratio]\n",
      "Mean: 0.148625, 94 % HDI: [0.02 0.26]\n"
     ]
    }
   ],
   "source": [
    "p = samples2_df[\"p\"].to_numpy()\n",
    "ratio = samples2_df[\"ratio\"].to_numpy()\n",
    "print(f\"[p]\\nMean: {mean_p}, 94 % HDI: {az.hdi(p, hdi_prob=0.94)}\")\n",
    "print()\n",
    "print(f\"[Ratio]\\nMean: {mean_ratio}, 94 % HDI: {az.hdi(ratio, hdi_prob=0.94)}\")"
   ]
  },
  {
   "attachments": {},
   "cell_type": "markdown",
   "metadata": {},
   "source": [
    "***The expected value of parameter $p$ is equal to $0.1491$, whereas the $94$ % density interval is: $[0.0673, 0.2301]$. In comparison, the expected value of the predicted ratio is equal to $0.1486$, whereas the $94$ % density interval is: $[0.02, 0.26]$.***"
   ]
  },
  {
   "cell_type": "code",
   "execution_count": 118,
   "metadata": {},
   "outputs": [
    {
     "name": "stdout",
     "output_type": "stream",
     "text": [
      "Probability that ratio is lower than the average probability from traditional vaccines: 74.325 %\n"
     ]
    }
   ],
   "source": [
    "print(f\"Probability that ratio is lower than the average probability from traditional vaccines: {np.mean(ratio < 0.2) * 100.0} %\")"
   ]
  },
  {
   "attachments": {},
   "cell_type": "markdown",
   "metadata": {},
   "source": [
    "***Probability that ratio is lower than the average probability from traditional vaccines is equal to $74.325 %.***"
   ]
  }
 ],
 "metadata": {
  "kernelspec": {
   "display_name": "Python 3",
   "language": "python",
   "name": "python3"
  },
  "language_info": {
   "codemirror_mode": {
    "name": "ipython",
    "version": 3
   },
   "file_extension": ".py",
   "mimetype": "text/x-python",
   "name": "python",
   "nbconvert_exporter": "python",
   "pygments_lexer": "ipython3",
   "version": "3.9.11"
  },
  "orig_nbformat": 4
 },
 "nbformat": 4,
 "nbformat_minor": 2
}
