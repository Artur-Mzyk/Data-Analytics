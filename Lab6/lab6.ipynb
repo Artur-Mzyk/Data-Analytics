{
 "cells": [
  {
   "attachments": {},
   "cell_type": "markdown",
   "metadata": {},
   "source": [
    "# Lab 6 - Model comparison"
   ]
  },
  {
   "attachments": {},
   "cell_type": "markdown",
   "metadata": {},
   "source": [
    "## Import packages"
   ]
  },
  {
   "cell_type": "code",
   "execution_count": 2,
   "metadata": {},
   "outputs": [
    {
     "name": "stderr",
     "output_type": "stream",
     "text": [
      "/usr/local/lib/python3.9/site-packages/tqdm/auto.py:22: TqdmWarning: IProgress not found. Please update jupyter and ipywidgets. See https://ipywidgets.readthedocs.io/en/stable/user_install.html\n",
      "  from .autonotebook import tqdm as notebook_tqdm\n"
     ]
    }
   ],
   "source": [
    "import arviz as az\n",
    "import matplotlib.pyplot as plt\n",
    "import numpy as np\n",
    "import pandas as pd\n",
    "import seaborn as sns\n",
    "import scipy.stats as stats\n",
    "\n",
    "from cmdstanpy import CmdStanModel\n",
    "\n",
    "# import warnings\n",
    "# warnings.filterwarnings(\"ignore\")"
   ]
  },
  {
   "attachments": {},
   "cell_type": "markdown",
   "metadata": {},
   "source": [
    "## Excercise 1. Generate data"
   ]
  },
  {
   "cell_type": "code",
   "execution_count": 7,
   "metadata": {},
   "outputs": [
    {
     "name": "stdout",
     "output_type": "stream",
     "text": [
      "F = 5, L = 4, N = 900\n"
     ]
    }
   ],
   "source": [
    "F, L = len(\"Artur\"), len(\"Mzyk\")\n",
    "N = (L + F) * 100\n",
    "print(f\"F = {F}, L = {L}, N = {N}\")\n",
    "seed = 29042020"
   ]
  },
  {
   "cell_type": "code",
   "execution_count": 4,
   "metadata": {},
   "outputs": [
    {
     "name": "stderr",
     "output_type": "stream",
     "text": [
      "INFO:cmdstanpy:compiling stan file /home/Lab6/code_1.stan to exe file /home/Lab6/code_1\n",
      "INFO:cmdstanpy:compiled model executable: /home/Lab6/code_1\n"
     ]
    }
   ],
   "source": [
    "model1 = CmdStanModel(stan_file='code_1.stan')"
   ]
  },
  {
   "cell_type": "code",
   "execution_count": 8,
   "metadata": {},
   "outputs": [
    {
     "name": "stderr",
     "output_type": "stream",
     "text": [
      "INFO:cmdstanpy:CmdStan start processing\n",
      "chain 1 |\u001b[34m██████████\u001b[0m| 00:00 Sampling completed"
     ]
    },
    {
     "name": "stdout",
     "output_type": "stream",
     "text": [
      "                                                                                "
     ]
    },
    {
     "name": "stderr",
     "output_type": "stream",
     "text": [
      "\n",
      "INFO:cmdstanpy:CmdStan done processing.\n"
     ]
    },
    {
     "name": "stdout",
     "output_type": "stream",
     "text": [
      "\n"
     ]
    },
    {
     "data": {
      "text/html": [
       "<div>\n",
       "<style scoped>\n",
       "    .dataframe tbody tr th:only-of-type {\n",
       "        vertical-align: middle;\n",
       "    }\n",
       "\n",
       "    .dataframe tbody tr th {\n",
       "        vertical-align: top;\n",
       "    }\n",
       "\n",
       "    .dataframe thead th {\n",
       "        text-align: right;\n",
       "    }\n",
       "</style>\n",
       "<table border=\"1\" class=\"dataframe\">\n",
       "  <thead>\n",
       "    <tr style=\"text-align: right;\">\n",
       "      <th></th>\n",
       "      <th>lp__</th>\n",
       "      <th>accept_stat__</th>\n",
       "      <th>theta</th>\n",
       "      <th>y[1]</th>\n",
       "      <th>y[2]</th>\n",
       "      <th>y[3]</th>\n",
       "      <th>y[4]</th>\n",
       "      <th>y[5]</th>\n",
       "      <th>y[6]</th>\n",
       "      <th>y[7]</th>\n",
       "      <th>...</th>\n",
       "      <th>y[891]</th>\n",
       "      <th>y[892]</th>\n",
       "      <th>y[893]</th>\n",
       "      <th>y[894]</th>\n",
       "      <th>y[895]</th>\n",
       "      <th>y[896]</th>\n",
       "      <th>y[897]</th>\n",
       "      <th>y[898]</th>\n",
       "      <th>y[899]</th>\n",
       "      <th>y[900]</th>\n",
       "    </tr>\n",
       "  </thead>\n",
       "  <tbody>\n",
       "    <tr>\n",
       "      <th>0</th>\n",
       "      <td>0.0</td>\n",
       "      <td>0.0</td>\n",
       "      <td>0.01</td>\n",
       "      <td>-0.424502</td>\n",
       "      <td>-0.063661</td>\n",
       "      <td>-0.833885</td>\n",
       "      <td>1.55158</td>\n",
       "      <td>-0.362245</td>\n",
       "      <td>0.743487</td>\n",
       "      <td>0.970844</td>\n",
       "      <td>...</td>\n",
       "      <td>0.328404</td>\n",
       "      <td>0.358179</td>\n",
       "      <td>1.15662</td>\n",
       "      <td>1.8954</td>\n",
       "      <td>0.345047</td>\n",
       "      <td>1.7689</td>\n",
       "      <td>1.8692</td>\n",
       "      <td>-2.2987</td>\n",
       "      <td>-1.30911</td>\n",
       "      <td>0.648789</td>\n",
       "    </tr>\n",
       "  </tbody>\n",
       "</table>\n",
       "<p>1 rows × 903 columns</p>\n",
       "</div>"
      ],
      "text/plain": [
       "   lp__  accept_stat__  theta      y[1]      y[2]      y[3]     y[4]  \\\n",
       "0   0.0            0.0   0.01 -0.424502 -0.063661 -0.833885  1.55158   \n",
       "\n",
       "       y[5]      y[6]      y[7]  ...    y[891]    y[892]   y[893]  y[894]  \\\n",
       "0 -0.362245  0.743487  0.970844  ...  0.328404  0.358179  1.15662  1.8954   \n",
       "\n",
       "     y[895]  y[896]  y[897]  y[898]   y[899]    y[900]  \n",
       "0  0.345047  1.7689  1.8692 -2.2987 -1.30911  0.648789  \n",
       "\n",
       "[1 rows x 903 columns]"
      ]
     },
     "execution_count": 8,
     "metadata": {},
     "output_type": "execute_result"
    }
   ],
   "source": [
    "samples1 = model1.sample(data={'N': N}, fixed_param=True, iter_sampling=1, iter_warmup=0, seed=seed, chains=1)\n",
    "df1 = samples1.draws_pd()\n",
    "df1.head()"
   ]
  },
  {
   "cell_type": "code",
   "execution_count": 9,
   "metadata": {},
   "outputs": [
    {
     "name": "stderr",
     "output_type": "stream",
     "text": [
      "INFO:cmdstanpy:compiling stan file /home/Lab6/code_2.stan to exe file /home/Lab6/code_2\n",
      "INFO:cmdstanpy:compiled model executable: /home/Lab6/code_2\n"
     ]
    }
   ],
   "source": [
    "model2 = CmdStanModel(stan_file='code_2.stan')"
   ]
  },
  {
   "cell_type": "code",
   "execution_count": 10,
   "metadata": {},
   "outputs": [
    {
     "name": "stderr",
     "output_type": "stream",
     "text": [
      "INFO:cmdstanpy:CmdStan start processing\n",
      "chain 1 |\u001b[34m██████████\u001b[0m| 00:00 Sampling completed"
     ]
    },
    {
     "name": "stdout",
     "output_type": "stream",
     "text": [
      "                                                                                "
     ]
    },
    {
     "name": "stderr",
     "output_type": "stream",
     "text": [
      "\n",
      "INFO:cmdstanpy:CmdStan done processing.\n"
     ]
    },
    {
     "name": "stdout",
     "output_type": "stream",
     "text": [
      "\n"
     ]
    },
    {
     "data": {
      "text/html": [
       "<div>\n",
       "<style scoped>\n",
       "    .dataframe tbody tr th:only-of-type {\n",
       "        vertical-align: middle;\n",
       "    }\n",
       "\n",
       "    .dataframe tbody tr th {\n",
       "        vertical-align: top;\n",
       "    }\n",
       "\n",
       "    .dataframe thead th {\n",
       "        text-align: right;\n",
       "    }\n",
       "</style>\n",
       "<table border=\"1\" class=\"dataframe\">\n",
       "  <thead>\n",
       "    <tr style=\"text-align: right;\">\n",
       "      <th></th>\n",
       "      <th>lp__</th>\n",
       "      <th>accept_stat__</th>\n",
       "      <th>X[1,1]</th>\n",
       "      <th>X[2,1]</th>\n",
       "      <th>X[3,1]</th>\n",
       "      <th>X[4,1]</th>\n",
       "      <th>X[5,1]</th>\n",
       "      <th>X[6,1]</th>\n",
       "      <th>X[7,1]</th>\n",
       "      <th>X[8,1]</th>\n",
       "      <th>...</th>\n",
       "      <th>y[891]</th>\n",
       "      <th>y[892]</th>\n",
       "      <th>y[893]</th>\n",
       "      <th>y[894]</th>\n",
       "      <th>y[895]</th>\n",
       "      <th>y[896]</th>\n",
       "      <th>y[897]</th>\n",
       "      <th>y[898]</th>\n",
       "      <th>y[899]</th>\n",
       "      <th>y[900]</th>\n",
       "    </tr>\n",
       "  </thead>\n",
       "  <tbody>\n",
       "    <tr>\n",
       "      <th>0</th>\n",
       "      <td>0.0</td>\n",
       "      <td>0.0</td>\n",
       "      <td>2.70817</td>\n",
       "      <td>0.777181</td>\n",
       "      <td>-1.27227</td>\n",
       "      <td>0.127591</td>\n",
       "      <td>-1.38942</td>\n",
       "      <td>0.246162</td>\n",
       "      <td>1.19873</td>\n",
       "      <td>2.26533</td>\n",
       "      <td>...</td>\n",
       "      <td>2.27466</td>\n",
       "      <td>0.254937</td>\n",
       "      <td>2.71356</td>\n",
       "      <td>-2.0202</td>\n",
       "      <td>-2.47591</td>\n",
       "      <td>-2.98993</td>\n",
       "      <td>1.30557</td>\n",
       "      <td>4.76874</td>\n",
       "      <td>1.47935</td>\n",
       "      <td>1.62862</td>\n",
       "    </tr>\n",
       "  </tbody>\n",
       "</table>\n",
       "<p>1 rows × 3605 columns</p>\n",
       "</div>"
      ],
      "text/plain": [
       "   lp__  accept_stat__   X[1,1]    X[2,1]   X[3,1]    X[4,1]   X[5,1]  \\\n",
       "0   0.0            0.0  2.70817  0.777181 -1.27227  0.127591 -1.38942   \n",
       "\n",
       "     X[6,1]   X[7,1]   X[8,1]  ...   y[891]    y[892]   y[893]  y[894]  \\\n",
       "0  0.246162  1.19873  2.26533  ...  2.27466  0.254937  2.71356 -2.0202   \n",
       "\n",
       "    y[895]   y[896]   y[897]   y[898]   y[899]   y[900]  \n",
       "0 -2.47591 -2.98993  1.30557  4.76874  1.47935  1.62862  \n",
       "\n",
       "[1 rows x 3605 columns]"
      ]
     },
     "execution_count": 10,
     "metadata": {},
     "output_type": "execute_result"
    }
   ],
   "source": [
    "samples2 = model2.sample(data={'N': N}, fixed_param=True, iter_sampling=1, iter_warmup=0, seed=seed, chains=1)\n",
    "df2 = samples2.draws_pd()\n",
    "df2.head()"
   ]
  },
  {
   "attachments": {},
   "cell_type": "markdown",
   "metadata": {},
   "source": [
    "## Excercise 2. Compare normal and student models for data from first file"
   ]
  },
  {
   "cell_type": "code",
   "execution_count": 12,
   "metadata": {},
   "outputs": [],
   "source": [
    "data_sim1 = {'N': N, 'y': df1.loc[:, 'y[1]':f'y[{N}]'].values.reshape((N))}"
   ]
  },
  {
   "cell_type": "code",
   "execution_count": 11,
   "metadata": {},
   "outputs": [
    {
     "name": "stderr",
     "output_type": "stream",
     "text": [
      "INFO:cmdstanpy:compiling stan file /home/Lab6/code_3.stan to exe file /home/Lab6/code_3\n",
      "INFO:cmdstanpy:compiled model executable: /home/Lab6/code_3\n"
     ]
    }
   ],
   "source": [
    "model3 = CmdStanModel(stan_file='code_3.stan')"
   ]
  },
  {
   "cell_type": "code",
   "execution_count": 13,
   "metadata": {},
   "outputs": [
    {
     "name": "stderr",
     "output_type": "stream",
     "text": [
      "INFO:cmdstanpy:CmdStan start processing\n",
      "chain 1 |\u001b[33m          \u001b[0m| 00:00 Status\n",
      "\u001b[A\n",
      "\n",
      "chain 1 |\u001b[33m▍         \u001b[0m| 00:00 Status\n",
      "\u001b[A\n",
      "\n",
      "chain 1 |\u001b[33m█████     \u001b[0m| 00:00 Iteration:  900 / 2000 [ 45%]  (Warmup)\n",
      "\u001b[A\n",
      "\n",
      "\u001b[A\u001b[A\n",
      "\u001b[A\n",
      "\n",
      "\u001b[A\u001b[A\n",
      "\u001b[A\n",
      "\n",
      "chain 1 |\u001b[34m███████▋  \u001b[0m| 00:01 Iteration: 1400 / 2000 [ 70%]  (Sampling)\n",
      "\u001b[A\n",
      "\n",
      "\u001b[A\u001b[A\n",
      "\u001b[A\n",
      "\n",
      "\u001b[A\u001b[A\n",
      "\u001b[A\n",
      "\n",
      "\u001b[A\u001b[A\n",
      "chain 1 |\u001b[34m█████████▌\u001b[0m| 00:02 Iteration: 1800 / 2000 [ 90%]  (Sampling)\n",
      "\n",
      "\u001b[A\u001b[A\n",
      "\u001b[A\n",
      "\n",
      "chain 1 |\u001b[34m██████████\u001b[0m| 00:03 Sampling completed                       \n",
      "chain 2 |\u001b[34m██████████\u001b[0m| 00:03 Sampling completed                       \n",
      "chain 3 |\u001b[34m██████████\u001b[0m| 00:03 Sampling completed                       \n",
      "chain 4 |\u001b[34m██████████\u001b[0m| 00:02 Sampling completed                       "
     ]
    },
    {
     "name": "stdout",
     "output_type": "stream",
     "text": [
      "                                                                                                                                                                                                                                                                                                                                "
     ]
    },
    {
     "name": "stderr",
     "output_type": "stream",
     "text": [
      "\n",
      "INFO:cmdstanpy:CmdStan done processing.\n"
     ]
    },
    {
     "name": "stdout",
     "output_type": "stream",
     "text": [
      "\n"
     ]
    },
    {
     "data": {
      "text/html": [
       "<div>\n",
       "<style scoped>\n",
       "    .dataframe tbody tr th:only-of-type {\n",
       "        vertical-align: middle;\n",
       "    }\n",
       "\n",
       "    .dataframe tbody tr th {\n",
       "        vertical-align: top;\n",
       "    }\n",
       "\n",
       "    .dataframe thead th {\n",
       "        text-align: right;\n",
       "    }\n",
       "</style>\n",
       "<table border=\"1\" class=\"dataframe\">\n",
       "  <thead>\n",
       "    <tr style=\"text-align: right;\">\n",
       "      <th></th>\n",
       "      <th>lp__</th>\n",
       "      <th>accept_stat__</th>\n",
       "      <th>stepsize__</th>\n",
       "      <th>treedepth__</th>\n",
       "      <th>n_leapfrog__</th>\n",
       "      <th>divergent__</th>\n",
       "      <th>energy__</th>\n",
       "      <th>sigma</th>\n",
       "      <th>mu</th>\n",
       "      <th>log_lik[1]</th>\n",
       "      <th>...</th>\n",
       "      <th>y_hat[891]</th>\n",
       "      <th>y_hat[892]</th>\n",
       "      <th>y_hat[893]</th>\n",
       "      <th>y_hat[894]</th>\n",
       "      <th>y_hat[895]</th>\n",
       "      <th>y_hat[896]</th>\n",
       "      <th>y_hat[897]</th>\n",
       "      <th>y_hat[898]</th>\n",
       "      <th>y_hat[899]</th>\n",
       "      <th>y_hat[900]</th>\n",
       "    </tr>\n",
       "  </thead>\n",
       "  <tbody>\n",
       "    <tr>\n",
       "      <th>0</th>\n",
       "      <td>-1616.77</td>\n",
       "      <td>0.872557</td>\n",
       "      <td>0.839151</td>\n",
       "      <td>2.0</td>\n",
       "      <td>3.0</td>\n",
       "      <td>0.0</td>\n",
       "      <td>1617.28</td>\n",
       "      <td>1.41582</td>\n",
       "      <td>0.000191</td>\n",
       "      <td>-1.31164</td>\n",
       "      <td>...</td>\n",
       "      <td>-1.693740</td>\n",
       "      <td>0.00735</td>\n",
       "      <td>-0.603268</td>\n",
       "      <td>-0.384257</td>\n",
       "      <td>-1.369210</td>\n",
       "      <td>-0.191218</td>\n",
       "      <td>-0.022887</td>\n",
       "      <td>-2.071950</td>\n",
       "      <td>-0.699204</td>\n",
       "      <td>3.013740</td>\n",
       "    </tr>\n",
       "    <tr>\n",
       "      <th>1</th>\n",
       "      <td>-1616.65</td>\n",
       "      <td>0.992878</td>\n",
       "      <td>0.839151</td>\n",
       "      <td>2.0</td>\n",
       "      <td>7.0</td>\n",
       "      <td>0.0</td>\n",
       "      <td>1617.52</td>\n",
       "      <td>1.39606</td>\n",
       "      <td>0.035224</td>\n",
       "      <td>-1.30681</td>\n",
       "      <td>...</td>\n",
       "      <td>0.225013</td>\n",
       "      <td>1.33635</td>\n",
       "      <td>0.752568</td>\n",
       "      <td>2.045080</td>\n",
       "      <td>-2.819420</td>\n",
       "      <td>0.953777</td>\n",
       "      <td>0.297656</td>\n",
       "      <td>-1.076000</td>\n",
       "      <td>1.387830</td>\n",
       "      <td>-0.724820</td>\n",
       "    </tr>\n",
       "    <tr>\n",
       "      <th>2</th>\n",
       "      <td>-1614.89</td>\n",
       "      <td>0.802789</td>\n",
       "      <td>0.839151</td>\n",
       "      <td>1.0</td>\n",
       "      <td>3.0</td>\n",
       "      <td>0.0</td>\n",
       "      <td>1618.73</td>\n",
       "      <td>1.45747</td>\n",
       "      <td>0.116905</td>\n",
       "      <td>-1.36464</td>\n",
       "      <td>...</td>\n",
       "      <td>0.031758</td>\n",
       "      <td>1.08067</td>\n",
       "      <td>0.618173</td>\n",
       "      <td>-0.819355</td>\n",
       "      <td>-2.571290</td>\n",
       "      <td>-1.120260</td>\n",
       "      <td>1.617170</td>\n",
       "      <td>-0.473935</td>\n",
       "      <td>0.071846</td>\n",
       "      <td>0.451610</td>\n",
       "    </tr>\n",
       "    <tr>\n",
       "      <th>3</th>\n",
       "      <td>-1614.82</td>\n",
       "      <td>0.992547</td>\n",
       "      <td>0.839151</td>\n",
       "      <td>2.0</td>\n",
       "      <td>3.0</td>\n",
       "      <td>0.0</td>\n",
       "      <td>1615.01</td>\n",
       "      <td>1.44366</td>\n",
       "      <td>0.055406</td>\n",
       "      <td>-1.34137</td>\n",
       "      <td>...</td>\n",
       "      <td>0.997638</td>\n",
       "      <td>0.10215</td>\n",
       "      <td>-1.904850</td>\n",
       "      <td>1.445770</td>\n",
       "      <td>-2.024140</td>\n",
       "      <td>0.123858</td>\n",
       "      <td>-0.763052</td>\n",
       "      <td>-1.302480</td>\n",
       "      <td>-1.199120</td>\n",
       "      <td>-0.547981</td>\n",
       "    </tr>\n",
       "    <tr>\n",
       "      <th>4</th>\n",
       "      <td>-1614.64</td>\n",
       "      <td>0.983042</td>\n",
       "      <td>0.839151</td>\n",
       "      <td>1.0</td>\n",
       "      <td>3.0</td>\n",
       "      <td>0.0</td>\n",
       "      <td>1614.99</td>\n",
       "      <td>1.45116</td>\n",
       "      <td>0.088850</td>\n",
       "      <td>-1.35387</td>\n",
       "      <td>...</td>\n",
       "      <td>1.287400</td>\n",
       "      <td>1.79063</td>\n",
       "      <td>0.887840</td>\n",
       "      <td>-0.091169</td>\n",
       "      <td>0.382899</td>\n",
       "      <td>-0.426307</td>\n",
       "      <td>0.607361</td>\n",
       "      <td>-0.303553</td>\n",
       "      <td>-0.237175</td>\n",
       "      <td>1.088680</td>\n",
       "    </tr>\n",
       "  </tbody>\n",
       "</table>\n",
       "<p>5 rows × 1809 columns</p>\n",
       "</div>"
      ],
      "text/plain": [
       "      lp__  accept_stat__  stepsize__  treedepth__  n_leapfrog__  divergent__  \\\n",
       "0 -1616.77       0.872557    0.839151          2.0           3.0          0.0   \n",
       "1 -1616.65       0.992878    0.839151          2.0           7.0          0.0   \n",
       "2 -1614.89       0.802789    0.839151          1.0           3.0          0.0   \n",
       "3 -1614.82       0.992547    0.839151          2.0           3.0          0.0   \n",
       "4 -1614.64       0.983042    0.839151          1.0           3.0          0.0   \n",
       "\n",
       "   energy__    sigma        mu  log_lik[1]  ...  y_hat[891]  y_hat[892]  \\\n",
       "0   1617.28  1.41582  0.000191    -1.31164  ...   -1.693740     0.00735   \n",
       "1   1617.52  1.39606  0.035224    -1.30681  ...    0.225013     1.33635   \n",
       "2   1618.73  1.45747  0.116905    -1.36464  ...    0.031758     1.08067   \n",
       "3   1615.01  1.44366  0.055406    -1.34137  ...    0.997638     0.10215   \n",
       "4   1614.99  1.45116  0.088850    -1.35387  ...    1.287400     1.79063   \n",
       "\n",
       "   y_hat[893]  y_hat[894]  y_hat[895]  y_hat[896]  y_hat[897]  y_hat[898]  \\\n",
       "0   -0.603268   -0.384257   -1.369210   -0.191218   -0.022887   -2.071950   \n",
       "1    0.752568    2.045080   -2.819420    0.953777    0.297656   -1.076000   \n",
       "2    0.618173   -0.819355   -2.571290   -1.120260    1.617170   -0.473935   \n",
       "3   -1.904850    1.445770   -2.024140    0.123858   -0.763052   -1.302480   \n",
       "4    0.887840   -0.091169    0.382899   -0.426307    0.607361   -0.303553   \n",
       "\n",
       "   y_hat[899]  y_hat[900]  \n",
       "0   -0.699204    3.013740  \n",
       "1    1.387830   -0.724820  \n",
       "2    0.071846    0.451610  \n",
       "3   -1.199120   -0.547981  \n",
       "4   -0.237175    1.088680  \n",
       "\n",
       "[5 rows x 1809 columns]"
      ]
     },
     "execution_count": 13,
     "metadata": {},
     "output_type": "execute_result"
    }
   ],
   "source": [
    "samples3 = model3.sample(data=data_sim1)\n",
    "df3 = samples3.draws_pd()\n",
    "df3.head()"
   ]
  },
  {
   "cell_type": "code",
   "execution_count": 14,
   "metadata": {},
   "outputs": [
    {
     "name": "stderr",
     "output_type": "stream",
     "text": [
      "INFO:cmdstanpy:compiling stan file /home/Lab6/code_4.stan to exe file /home/Lab6/code_4\n",
      "INFO:cmdstanpy:compiled model executable: /home/Lab6/code_4\n"
     ]
    }
   ],
   "source": [
    "model4 = CmdStanModel(stan_file='code_4.stan')"
   ]
  },
  {
   "cell_type": "code",
   "execution_count": 15,
   "metadata": {},
   "outputs": [
    {
     "name": "stderr",
     "output_type": "stream",
     "text": [
      "INFO:cmdstanpy:CmdStan start processing\n",
      "chain 1 |\u001b[33m          \u001b[0m| 00:00 Status\n",
      "\u001b[A\n",
      "\n",
      "chain 1 |\u001b[33m▍         \u001b[0m| 00:00 Status\n",
      "\n",
      "\u001b[A\u001b[A\n",
      "chain 1 |\u001b[33m▉         \u001b[0m| 00:00 Iteration:    1 / 2000 [  0%]  (Warmup)\n",
      "\u001b[A\n",
      "\n",
      "chain 1 |\u001b[33m█▎        \u001b[0m| 00:00 Iteration:  100 / 2000 [  5%]  (Warmup)\n",
      "\u001b[A\n",
      "\n",
      "\u001b[A\u001b[A\n",
      "chain 1 |\u001b[33m██▎       \u001b[0m| 00:00 Iteration:  300 / 2000 [ 15%]  (Warmup)\n",
      "\n",
      "chain 1 |\u001b[33m███▏      \u001b[0m| 00:00 Iteration:  500 / 2000 [ 25%]  (Warmup)\n",
      "\n",
      "\u001b[A\u001b[A\n",
      "chain 1 |\u001b[33m████      \u001b[0m| 00:00 Iteration:  700 / 2000 [ 35%]  (Warmup)\n",
      "\u001b[A\n",
      "\n",
      "\u001b[A\u001b[A\n",
      "chain 1 |\u001b[33m█████     \u001b[0m| 00:01 Iteration:  900 / 2000 [ 45%]  (Warmup)\n",
      "\n",
      "\u001b[A\u001b[A\n",
      "chain 1 |\u001b[34m█████▉    \u001b[0m| 00:01 Iteration: 1001 / 2000 [ 50%]  (Sampling)\n",
      "\n",
      "\u001b[A\u001b[A\n",
      "chain 1 |\u001b[34m██████▊   \u001b[0m| 00:01 Iteration: 1200 / 2000 [ 60%]  (Sampling)\n",
      "\n",
      "\u001b[A\u001b[A\n",
      "chain 1 |\u001b[34m███████▎  \u001b[0m| 00:02 Iteration: 1300 / 2000 [ 65%]  (Sampling)\n",
      "\n",
      "\u001b[A\u001b[A\n",
      "chain 1 |\u001b[34m███████▋  \u001b[0m| 00:02 Iteration: 1400 / 2000 [ 70%]  (Sampling)\n",
      "\n",
      "chain 1 |\u001b[34m████████▏ \u001b[0m| 00:02 Iteration: 1500 / 2000 [ 75%]  (Sampling)\n",
      "\u001b[A\n",
      "\n",
      "chain 1 |\u001b[34m████████▋ \u001b[0m| 00:03 Iteration: 1600 / 2000 [ 80%]  (Sampling)\n",
      "\u001b[A\n",
      "\n",
      "chain 1 |\u001b[34m█████████ \u001b[0m| 00:04 Iteration: 1700 / 2000 [ 85%]  (Sampling)\n",
      "\u001b[A\n",
      "\n",
      "chain 1 |\u001b[34m█████████▌\u001b[0m| 00:05 Iteration: 1800 / 2000 [ 90%]  (Sampling)\n",
      "\u001b[A\n",
      "\n",
      "chain 1 |\u001b[34m██████████\u001b[0m| 00:05 Iteration: 1900 / 2000 [ 95%]  (Sampling)\n",
      "chain 1 |\u001b[34m██████████\u001b[0m| 00:06 Sampling completed                       \n",
      "chain 2 |\u001b[34m██████████\u001b[0m| 00:06 Sampling completed                       \n",
      "chain 3 |\u001b[34m██████████\u001b[0m| 00:06 Sampling completed                       \n",
      "chain 4 |\u001b[34m██████████\u001b[0m| 00:06 Sampling completed                       "
     ]
    },
    {
     "name": "stdout",
     "output_type": "stream",
     "text": [
      "                                                                                                                                                                                                                                                                                                                                "
     ]
    },
    {
     "name": "stderr",
     "output_type": "stream",
     "text": [
      "\n",
      "INFO:cmdstanpy:CmdStan done processing.\n"
     ]
    },
    {
     "name": "stdout",
     "output_type": "stream",
     "text": [
      "\n"
     ]
    },
    {
     "data": {
      "text/html": [
       "<div>\n",
       "<style scoped>\n",
       "    .dataframe tbody tr th:only-of-type {\n",
       "        vertical-align: middle;\n",
       "    }\n",
       "\n",
       "    .dataframe tbody tr th {\n",
       "        vertical-align: top;\n",
       "    }\n",
       "\n",
       "    .dataframe thead th {\n",
       "        text-align: right;\n",
       "    }\n",
       "</style>\n",
       "<table border=\"1\" class=\"dataframe\">\n",
       "  <thead>\n",
       "    <tr style=\"text-align: right;\">\n",
       "      <th></th>\n",
       "      <th>lp__</th>\n",
       "      <th>accept_stat__</th>\n",
       "      <th>stepsize__</th>\n",
       "      <th>treedepth__</th>\n",
       "      <th>n_leapfrog__</th>\n",
       "      <th>divergent__</th>\n",
       "      <th>energy__</th>\n",
       "      <th>sigma</th>\n",
       "      <th>mu</th>\n",
       "      <th>nu</th>\n",
       "      <th>...</th>\n",
       "      <th>y_hat[891]</th>\n",
       "      <th>y_hat[892]</th>\n",
       "      <th>y_hat[893]</th>\n",
       "      <th>y_hat[894]</th>\n",
       "      <th>y_hat[895]</th>\n",
       "      <th>y_hat[896]</th>\n",
       "      <th>y_hat[897]</th>\n",
       "      <th>y_hat[898]</th>\n",
       "      <th>y_hat[899]</th>\n",
       "      <th>y_hat[900]</th>\n",
       "    </tr>\n",
       "  </thead>\n",
       "  <tbody>\n",
       "    <tr>\n",
       "      <th>0</th>\n",
       "      <td>-1330.45</td>\n",
       "      <td>0.988997</td>\n",
       "      <td>0.62082</td>\n",
       "      <td>3.0</td>\n",
       "      <td>7.0</td>\n",
       "      <td>0.0</td>\n",
       "      <td>1333.03</td>\n",
       "      <td>0.763552</td>\n",
       "      <td>0.048110</td>\n",
       "      <td>3.59495</td>\n",
       "      <td>...</td>\n",
       "      <td>-0.422796</td>\n",
       "      <td>-0.597801</td>\n",
       "      <td>0.449501</td>\n",
       "      <td>-1.501140</td>\n",
       "      <td>4.609180</td>\n",
       "      <td>0.118818</td>\n",
       "      <td>-1.091350</td>\n",
       "      <td>1.272660</td>\n",
       "      <td>1.014300</td>\n",
       "      <td>0.030460</td>\n",
       "    </tr>\n",
       "    <tr>\n",
       "      <th>1</th>\n",
       "      <td>-1333.99</td>\n",
       "      <td>0.897021</td>\n",
       "      <td>0.62082</td>\n",
       "      <td>2.0</td>\n",
       "      <td>3.0</td>\n",
       "      <td>0.0</td>\n",
       "      <td>1334.51</td>\n",
       "      <td>0.733693</td>\n",
       "      <td>0.020833</td>\n",
       "      <td>3.00824</td>\n",
       "      <td>...</td>\n",
       "      <td>-0.214568</td>\n",
       "      <td>-0.033067</td>\n",
       "      <td>0.355474</td>\n",
       "      <td>-0.887824</td>\n",
       "      <td>-1.321910</td>\n",
       "      <td>-0.824882</td>\n",
       "      <td>-0.069715</td>\n",
       "      <td>-0.380298</td>\n",
       "      <td>-0.461730</td>\n",
       "      <td>-0.888724</td>\n",
       "    </tr>\n",
       "    <tr>\n",
       "      <th>2</th>\n",
       "      <td>-1332.17</td>\n",
       "      <td>0.873422</td>\n",
       "      <td>0.62082</td>\n",
       "      <td>2.0</td>\n",
       "      <td>3.0</td>\n",
       "      <td>0.0</td>\n",
       "      <td>1338.07</td>\n",
       "      <td>0.755774</td>\n",
       "      <td>0.071363</td>\n",
       "      <td>3.49630</td>\n",
       "      <td>...</td>\n",
       "      <td>-0.593452</td>\n",
       "      <td>-0.799584</td>\n",
       "      <td>2.988280</td>\n",
       "      <td>1.022800</td>\n",
       "      <td>1.042550</td>\n",
       "      <td>-0.334650</td>\n",
       "      <td>0.101815</td>\n",
       "      <td>-1.866370</td>\n",
       "      <td>3.025360</td>\n",
       "      <td>0.508977</td>\n",
       "    </tr>\n",
       "    <tr>\n",
       "      <th>3</th>\n",
       "      <td>-1330.33</td>\n",
       "      <td>0.955338</td>\n",
       "      <td>0.62082</td>\n",
       "      <td>2.0</td>\n",
       "      <td>3.0</td>\n",
       "      <td>0.0</td>\n",
       "      <td>1333.24</td>\n",
       "      <td>0.800077</td>\n",
       "      <td>0.039418</td>\n",
       "      <td>3.33509</td>\n",
       "      <td>...</td>\n",
       "      <td>0.058336</td>\n",
       "      <td>-0.655935</td>\n",
       "      <td>1.342390</td>\n",
       "      <td>-0.232453</td>\n",
       "      <td>-1.333600</td>\n",
       "      <td>0.366206</td>\n",
       "      <td>-0.684915</td>\n",
       "      <td>0.987473</td>\n",
       "      <td>0.223362</td>\n",
       "      <td>0.755635</td>\n",
       "    </tr>\n",
       "    <tr>\n",
       "      <th>4</th>\n",
       "      <td>-1330.37</td>\n",
       "      <td>0.991575</td>\n",
       "      <td>0.62082</td>\n",
       "      <td>3.0</td>\n",
       "      <td>7.0</td>\n",
       "      <td>0.0</td>\n",
       "      <td>1332.04</td>\n",
       "      <td>0.805006</td>\n",
       "      <td>-0.049450</td>\n",
       "      <td>4.68675</td>\n",
       "      <td>...</td>\n",
       "      <td>0.812339</td>\n",
       "      <td>-0.073893</td>\n",
       "      <td>0.967337</td>\n",
       "      <td>0.024008</td>\n",
       "      <td>0.542795</td>\n",
       "      <td>0.182572</td>\n",
       "      <td>-0.420629</td>\n",
       "      <td>-0.551313</td>\n",
       "      <td>-1.893720</td>\n",
       "      <td>-0.462266</td>\n",
       "    </tr>\n",
       "  </tbody>\n",
       "</table>\n",
       "<p>5 rows × 1810 columns</p>\n",
       "</div>"
      ],
      "text/plain": [
       "      lp__  accept_stat__  stepsize__  treedepth__  n_leapfrog__  divergent__  \\\n",
       "0 -1330.45       0.988997     0.62082          3.0           7.0          0.0   \n",
       "1 -1333.99       0.897021     0.62082          2.0           3.0          0.0   \n",
       "2 -1332.17       0.873422     0.62082          2.0           3.0          0.0   \n",
       "3 -1330.33       0.955338     0.62082          2.0           3.0          0.0   \n",
       "4 -1330.37       0.991575     0.62082          3.0           7.0          0.0   \n",
       "\n",
       "   energy__     sigma        mu       nu  ...  y_hat[891]  y_hat[892]  \\\n",
       "0   1333.03  0.763552  0.048110  3.59495  ...   -0.422796   -0.597801   \n",
       "1   1334.51  0.733693  0.020833  3.00824  ...   -0.214568   -0.033067   \n",
       "2   1338.07  0.755774  0.071363  3.49630  ...   -0.593452   -0.799584   \n",
       "3   1333.24  0.800077  0.039418  3.33509  ...    0.058336   -0.655935   \n",
       "4   1332.04  0.805006 -0.049450  4.68675  ...    0.812339   -0.073893   \n",
       "\n",
       "   y_hat[893]  y_hat[894]  y_hat[895]  y_hat[896]  y_hat[897]  y_hat[898]  \\\n",
       "0    0.449501   -1.501140    4.609180    0.118818   -1.091350    1.272660   \n",
       "1    0.355474   -0.887824   -1.321910   -0.824882   -0.069715   -0.380298   \n",
       "2    2.988280    1.022800    1.042550   -0.334650    0.101815   -1.866370   \n",
       "3    1.342390   -0.232453   -1.333600    0.366206   -0.684915    0.987473   \n",
       "4    0.967337    0.024008    0.542795    0.182572   -0.420629   -0.551313   \n",
       "\n",
       "   y_hat[899]  y_hat[900]  \n",
       "0    1.014300    0.030460  \n",
       "1   -0.461730   -0.888724  \n",
       "2    3.025360    0.508977  \n",
       "3    0.223362    0.755635  \n",
       "4   -1.893720   -0.462266  \n",
       "\n",
       "[5 rows x 1810 columns]"
      ]
     },
     "execution_count": 15,
     "metadata": {},
     "output_type": "execute_result"
    }
   ],
   "source": [
    "samples4 = model4.sample(data=data_sim1)\n",
    "df4 = samples4.draws_pd()\n",
    "df4.head()"
   ]
  },
  {
   "cell_type": "code",
   "execution_count": 16,
   "metadata": {},
   "outputs": [
    {
     "name": "stderr",
     "output_type": "stream",
     "text": [
      "/usr/local/lib/python3.9/site-packages/arviz/stats/stats.py:811: UserWarning: Estimated shape parameter of Pareto distribution is greater than 0.7 for one or more samples. You should consider using a more robust model, this is because importance sampling is less likely to work well if the marginal posterior and LOO posterior are very different. This is more likely to happen with a non-robust model and highly influential observations.\n",
      "  warnings.warn(\n"
     ]
    },
    {
     "data": {
      "text/html": [
       "<div>\n",
       "<style scoped>\n",
       "    .dataframe tbody tr th:only-of-type {\n",
       "        vertical-align: middle;\n",
       "    }\n",
       "\n",
       "    .dataframe tbody tr th {\n",
       "        vertical-align: top;\n",
       "    }\n",
       "\n",
       "    .dataframe thead th {\n",
       "        text-align: right;\n",
       "    }\n",
       "</style>\n",
       "<table border=\"1\" class=\"dataframe\">\n",
       "  <thead>\n",
       "    <tr style=\"text-align: right;\">\n",
       "      <th></th>\n",
       "      <th>rank</th>\n",
       "      <th>loo</th>\n",
       "      <th>p_loo</th>\n",
       "      <th>d_loo</th>\n",
       "      <th>weight</th>\n",
       "      <th>se</th>\n",
       "      <th>dse</th>\n",
       "      <th>warning</th>\n",
       "      <th>loo_scale</th>\n",
       "    </tr>\n",
       "  </thead>\n",
       "  <tbody>\n",
       "    <tr>\n",
       "      <th>Student model</th>\n",
       "      <td>0</td>\n",
       "      <td>2659.027947</td>\n",
       "      <td>4.717360</td>\n",
       "      <td>0.000000</td>\n",
       "      <td>1.000000e+00</td>\n",
       "      <td>66.006924</td>\n",
       "      <td>0.000000</td>\n",
       "      <td>False</td>\n",
       "      <td>deviance</td>\n",
       "    </tr>\n",
       "    <tr>\n",
       "      <th>Normal model</th>\n",
       "      <td>1</td>\n",
       "      <td>3262.192726</td>\n",
       "      <td>29.278072</td>\n",
       "      <td>603.164779</td>\n",
       "      <td>3.446985e-10</td>\n",
       "      <td>255.979380</td>\n",
       "      <td>211.062491</td>\n",
       "      <td>True</td>\n",
       "      <td>deviance</td>\n",
       "    </tr>\n",
       "  </tbody>\n",
       "</table>\n",
       "</div>"
      ],
      "text/plain": [
       "               rank          loo      p_loo       d_loo        weight  \\\n",
       "Student model     0  2659.027947   4.717360    0.000000  1.000000e+00   \n",
       "Normal model      1  3262.192726  29.278072  603.164779  3.446985e-10   \n",
       "\n",
       "                       se         dse  warning loo_scale  \n",
       "Student model   66.006924    0.000000    False  deviance  \n",
       "Normal model   255.979380  211.062491     True  deviance  "
      ]
     },
     "execution_count": 16,
     "metadata": {},
     "output_type": "execute_result"
    }
   ],
   "source": [
    "compare_model_loo = az.compare({\"Normal model\": az.from_cmdstanpy(samples3), \"Student model\": az.from_cmdstanpy(samples4)}, ic=\"loo\", scale=\"deviance\")\n",
    "compare_model_loo.head()"
   ]
  },
  {
   "cell_type": "code",
   "execution_count": 17,
   "metadata": {},
   "outputs": [
    {
     "name": "stderr",
     "output_type": "stream",
     "text": [
      "/usr/local/lib/python3.9/site-packages/arviz/stats/stats.py:1635: UserWarning: For one or more samples the posterior variance of the log predictive densities exceeds 0.4. This could be indication of WAIC starting to fail. \n",
      "See http://arxiv.org/abs/1507.04544 for details\n",
      "  warnings.warn(\n",
      "/usr/local/lib/python3.9/site-packages/arviz/stats/stats.py:1635: UserWarning: For one or more samples the posterior variance of the log predictive densities exceeds 0.4. This could be indication of WAIC starting to fail. \n",
      "See http://arxiv.org/abs/1507.04544 for details\n",
      "  warnings.warn(\n"
     ]
    },
    {
     "data": {
      "text/html": [
       "<div>\n",
       "<style scoped>\n",
       "    .dataframe tbody tr th:only-of-type {\n",
       "        vertical-align: middle;\n",
       "    }\n",
       "\n",
       "    .dataframe tbody tr th {\n",
       "        vertical-align: top;\n",
       "    }\n",
       "\n",
       "    .dataframe thead th {\n",
       "        text-align: right;\n",
       "    }\n",
       "</style>\n",
       "<table border=\"1\" class=\"dataframe\">\n",
       "  <thead>\n",
       "    <tr style=\"text-align: right;\">\n",
       "      <th></th>\n",
       "      <th>rank</th>\n",
       "      <th>waic</th>\n",
       "      <th>p_waic</th>\n",
       "      <th>d_waic</th>\n",
       "      <th>weight</th>\n",
       "      <th>se</th>\n",
       "      <th>dse</th>\n",
       "      <th>warning</th>\n",
       "      <th>waic_scale</th>\n",
       "    </tr>\n",
       "  </thead>\n",
       "  <tbody>\n",
       "    <tr>\n",
       "      <th>Student model</th>\n",
       "      <td>0</td>\n",
       "      <td>2658.978841</td>\n",
       "      <td>4.692807</td>\n",
       "      <td>0.000000</td>\n",
       "      <td>1.000000e+00</td>\n",
       "      <td>65.989483</td>\n",
       "      <td>0.000000</td>\n",
       "      <td>True</td>\n",
       "      <td>deviance</td>\n",
       "    </tr>\n",
       "    <tr>\n",
       "      <th>Normal model</th>\n",
       "      <td>1</td>\n",
       "      <td>3267.665646</td>\n",
       "      <td>32.014531</td>\n",
       "      <td>608.686805</td>\n",
       "      <td>6.819789e-11</td>\n",
       "      <td>259.060322</td>\n",
       "      <td>214.205012</td>\n",
       "      <td>True</td>\n",
       "      <td>deviance</td>\n",
       "    </tr>\n",
       "  </tbody>\n",
       "</table>\n",
       "</div>"
      ],
      "text/plain": [
       "               rank         waic     p_waic      d_waic        weight  \\\n",
       "Student model     0  2658.978841   4.692807    0.000000  1.000000e+00   \n",
       "Normal model      1  3267.665646  32.014531  608.686805  6.819789e-11   \n",
       "\n",
       "                       se         dse  warning waic_scale  \n",
       "Student model   65.989483    0.000000     True   deviance  \n",
       "Normal model   259.060322  214.205012     True   deviance  "
      ]
     },
     "execution_count": 17,
     "metadata": {},
     "output_type": "execute_result"
    }
   ],
   "source": [
    "compare_model_waic = az.compare({\"Normal model\": az.from_cmdstanpy(samples3), \"Student model\": az.from_cmdstanpy(samples4)}, ic=\"waic\", scale=\"deviance\")\n",
    "compare_model_waic.head()"
   ]
  },
  {
   "cell_type": "code",
   "execution_count": 20,
   "metadata": {},
   "outputs": [
    {
     "data": {
      "image/png": "[encoded data removed]",
      "text/plain": [
       "<Figure size 1440x720 with 2 Axes>"
      ]
     },
     "metadata": {
      "needs_background": "light"
     },
     "output_type": "display_data"
    }
   ],
   "source": [
    "_, ax = plt.subplots(nrows=1, ncols=2, figsize=(20, 10))\n",
    "az.plot_compare(compare_model_loo, insample_dev=True, ax=ax[0])\n",
    "ax[0].set_title(\"LOO criteria\")\n",
    "az.plot_compare(compare_model_waic, insample_dev=True, ax=ax[1])\n",
    "ax[1].set_title(\"WAIC criteria\")\n",
    "plt.show()"
   ]
  },
  {
   "attachments": {},
   "cell_type": "markdown",
   "metadata": {},
   "source": [
    "**Model based on the Student's t-distribution is quite simpler and has lower LOO and WAIC criteria values.**"
   ]
  },
  {
   "attachments": {},
   "cell_type": "markdown",
   "metadata": {},
   "source": [
    "## Excercise 3. Compare models with different numbers of predictors"
   ]
  },
  {
   "cell_type": "code",
   "execution_count": 21,
   "metadata": {},
   "outputs": [
    {
     "name": "stderr",
     "output_type": "stream",
     "text": [
      "INFO:cmdstanpy:compiling stan file /home/Lab6/code_5.stan to exe file /home/Lab6/code_5\n",
      "INFO:cmdstanpy:compiled model executable: /home/Lab6/code_5\n"
     ]
    }
   ],
   "source": [
    "model5 = CmdStanModel(stan_file='code_5.stan')"
   ]
  },
  {
   "cell_type": "code",
   "execution_count": 23,
   "metadata": {},
   "outputs": [
    {
     "name": "stderr",
     "output_type": "stream",
     "text": [
      "INFO:cmdstanpy:CmdStan start processing\n",
      "chain 1 |\u001b[33m          \u001b[0m| 00:00 Status\n",
      "\u001b[A\n",
      "\n",
      "chain 1 |\u001b[33m▍         \u001b[0m| 00:00 Status\n",
      "\u001b[A\n",
      "\n",
      "chain 1 |\u001b[33m█▎        \u001b[0m| 00:00 Iteration:  100 / 2000 [  5%]  (Warmup)\n",
      "\u001b[A\n",
      "\n",
      "chain 1 |\u001b[33m██▋       \u001b[0m| 00:00 Iteration:  400 / 2000 [ 20%]  (Warmup)\n",
      "\u001b[A\n",
      "\n",
      "chain 1 |\u001b[33m████      \u001b[0m| 00:00 Iteration:  700 / 2000 [ 35%]  (Warmup)\n",
      "\u001b[A\n",
      "\n",
      "\u001b[A\u001b[A\n",
      "\n",
      "\u001b[A\u001b[A\n",
      "\n",
      "chain 1 |\u001b[34m█████▉    \u001b[0m| 00:01 Iteration: 1001 / 2000 [ 50%]  (Sampling)\n",
      "\u001b[A\n",
      "\n",
      "chain 1 |\u001b[34m██████▊   \u001b[0m| 00:01 Iteration: 1200 / 2000 [ 60%]  (Sampling)\n",
      "\u001b[A\n",
      "\n",
      "\u001b[A\u001b[A\n",
      "\n",
      "chain 1 |\u001b[34m███████▋  \u001b[0m| 00:02 Iteration: 1400 / 2000 [ 70%]  (Sampling)\n",
      "\u001b[A\n",
      "\n",
      "chain 1 |\u001b[34m████████▏ \u001b[0m| 00:03 Iteration: 1500 / 2000 [ 75%]  (Sampling)\n",
      "chain 1 |\u001b[34m████████▋ \u001b[0m| 00:03 Iteration: 1600 / 2000 [ 80%]  (Sampling)\n",
      "\u001b[A\n",
      "\n",
      "\u001b[A\u001b[A\n",
      "chain 1 |\u001b[34m█████████ \u001b[0m| 00:04 Iteration: 1700 / 2000 [ 85%]  (Sampling)\n",
      "\n",
      "\u001b[A\u001b[A\n",
      "chain 1 |\u001b[34m█████████▌\u001b[0m| 00:05 Iteration: 1800 / 2000 [ 90%]  (Sampling)\n",
      "\n",
      "\u001b[A\u001b[A\n",
      "chain 1 |\u001b[34m██████████\u001b[0m| 00:06 Iteration: 1900 / 2000 [ 95%]  (Sampling)\n",
      "\n",
      "\u001b[A\u001b[A\n",
      "\n",
      "chain 1 |\u001b[34m██████████\u001b[0m| 00:07 Sampling completed                       \n",
      "chain 2 |\u001b[34m██████████\u001b[0m| 00:07 Sampling completed                       \n",
      "chain 3 |\u001b[34m██████████\u001b[0m| 00:07 Sampling completed                       \n",
      "chain 4 |\u001b[34m██████████\u001b[0m| 00:07 Sampling completed                       "
     ]
    },
    {
     "name": "stdout",
     "output_type": "stream",
     "text": [
      "                                                                                                                                                                                                                                                                                                                                "
     ]
    },
    {
     "name": "stderr",
     "output_type": "stream",
     "text": [
      "\n",
      "INFO:cmdstanpy:CmdStan done processing.\n"
     ]
    },
    {
     "name": "stdout",
     "output_type": "stream",
     "text": [
      "\n"
     ]
    },
    {
     "name": "stderr",
     "output_type": "stream",
     "text": [
      "INFO:cmdstanpy:CmdStan start processing\n",
      "chain 1 |\u001b[33m          \u001b[0m| 00:00 Status\n",
      "\u001b[A\n",
      "\n",
      "chain 1 |\u001b[33m▍         \u001b[0m| 00:00 Status\n",
      "\n",
      "\u001b[A\u001b[A\n",
      "\u001b[A\n",
      "\n",
      "chain 1 |\u001b[33m█▎        \u001b[0m| 00:00 Iteration:  100 / 2000 [  5%]  (Warmup)\n",
      "\u001b[A\n",
      "\n",
      "chain 1 |\u001b[33m██▎       \u001b[0m| 00:00 Iteration:  300 / 2000 [ 15%]  (Warmup)\n",
      "\u001b[A\n",
      "\n",
      "chain 1 |\u001b[33m████▌     \u001b[0m| 00:00 Iteration:  800 / 2000 [ 40%]  (Warmup)\n",
      "\u001b[A\n",
      "\n",
      "\u001b[A\u001b[A\n",
      "\u001b[A\n",
      "\n",
      "\u001b[A\u001b[A\n",
      "\n",
      "\u001b[A\u001b[A\n",
      "chain 1 |\u001b[34m█████▉    \u001b[0m| 00:01 Iteration: 1001 / 2000 [ 50%]  (Sampling)\n",
      "\u001b[A\n",
      "\n",
      "\u001b[A\u001b[A\n",
      "\u001b[A\n",
      "\n",
      "chain 1 |\u001b[34m██████▊   \u001b[0m| 00:03 Iteration: 1200 / 2000 [ 60%]  (Sampling)\n",
      "\u001b[A\n",
      "\n",
      "\u001b[A\u001b[A\n",
      "\u001b[A\n",
      "\n",
      "chain 1 |\u001b[34m███████▋  \u001b[0m| 00:04 Iteration: 1400 / 2000 [ 70%]  (Sampling)\n",
      "chain 1 |\u001b[34m████████▏ \u001b[0m| 00:05 Iteration: 1500 / 2000 [ 75%]  (Sampling)\n",
      "\n",
      "\u001b[A\u001b[A\n",
      "chain 1 |\u001b[34m████████▋ \u001b[0m| 00:06 Iteration: 1600 / 2000 [ 80%]  (Sampling)\n",
      "\u001b[A\n",
      "\n",
      "chain 1 |\u001b[34m█████████ \u001b[0m| 00:07 Iteration: 1700 / 2000 [ 85%]  (Sampling)\n",
      "\u001b[A\n",
      "\n",
      "chain 1 |\u001b[34m█████████▌\u001b[0m| 00:07 Iteration: 1800 / 2000 [ 90%]  (Sampling)\n",
      "\u001b[A\n",
      "\n",
      "chain 1 |\u001b[34m██████████\u001b[0m| 00:08 Iteration: 1900 / 2000 [ 95%]  (Sampling)\n",
      "\u001b[A\n",
      "\n",
      "\u001b[A\u001b[A\n",
      "\n",
      "chain 1 |\u001b[34m██████████\u001b[0m| 00:08 Sampling completed                       \n",
      "chain 2 |\u001b[34m██████████\u001b[0m| 00:08 Sampling completed                       \n",
      "chain 3 |\u001b[34m██████████\u001b[0m| 00:08 Sampling completed                       \n",
      "chain 4 |\u001b[34m██████████\u001b[0m| 00:08 Sampling completed                       "
     ]
    },
    {
     "name": "stdout",
     "output_type": "stream",
     "text": [
      "                                                                                                                                                                                                                                                                                                                                "
     ]
    },
    {
     "name": "stderr",
     "output_type": "stream",
     "text": [
      "\n",
      "INFO:cmdstanpy:CmdStan done processing.\n"
     ]
    },
    {
     "name": "stdout",
     "output_type": "stream",
     "text": [
      "\n"
     ]
    },
    {
     "name": "stderr",
     "output_type": "stream",
     "text": [
      "INFO:cmdstanpy:CmdStan start processing\n",
      "chain 1 |\u001b[33m          \u001b[0m| 00:00 Status\n",
      "\u001b[A\n",
      "\n",
      "chain 1 |\u001b[33m▍         \u001b[0m| 00:00 Status\n",
      "\u001b[A\n",
      "\n",
      "\u001b[A\u001b[A\n",
      "\n",
      "chain 1 |\u001b[33m█▎        \u001b[0m| 00:00 Iteration:  100 / 2000 [  5%]  (Warmup)\n",
      "\u001b[A\n",
      "\n",
      "chain 1 |\u001b[33m██▋       \u001b[0m| 00:00 Iteration:  400 / 2000 [ 20%]  (Warmup)\n",
      "chain 1 |\u001b[33m████      \u001b[0m| 00:00 Iteration:  700 / 2000 [ 35%]  (Warmup)\n",
      "\u001b[A\n",
      "\n",
      "chain 1 |\u001b[34m█████▉    \u001b[0m| 00:01 Iteration: 1001 / 2000 [ 50%]  (Sampling)\n",
      "chain 1 |\u001b[34m██████▊   \u001b[0m| 00:02 Iteration: 1200 / 2000 [ 60%]  (Sampling)\n",
      "\u001b[A\n",
      "\n",
      "chain 1 |\u001b[34m███████▋  \u001b[0m| 00:04 Iteration: 1400 / 2000 [ 70%]  (Sampling)\n",
      "\u001b[A\n",
      "\n",
      "chain 1 |\u001b[34m████████▏ \u001b[0m| 00:04 Iteration: 1500 / 2000 [ 75%]  (Sampling)\n",
      "\n",
      "\u001b[A\u001b[A\n",
      "chain 1 |\u001b[34m████████▋ \u001b[0m| 00:05 Iteration: 1600 / 2000 [ 80%]  (Sampling)\n",
      "\n",
      "\u001b[A\u001b[A\n",
      "chain 1 |\u001b[34m█████████ \u001b[0m| 00:05 Iteration: 1700 / 2000 [ 85%]  (Sampling)\n",
      "\n",
      "\u001b[A\u001b[A\n",
      "chain 1 |\u001b[34m█████████▌\u001b[0m| 00:06 Iteration: 1800 / 2000 [ 90%]  (Sampling)\n",
      "\n",
      "\u001b[A\u001b[A\n",
      "chain 1 |\u001b[34m██████████\u001b[0m| 00:06 Iteration: 1900 / 2000 [ 95%]  (Sampling)\n",
      "chain 1 |\u001b[34m██████████\u001b[0m| 00:06 Sampling completed                       \n",
      "chain 2 |\u001b[34m██████████\u001b[0m| 00:06 Sampling completed                       \n",
      "chain 3 |\u001b[34m██████████\u001b[0m| 00:06 Sampling completed                       \n",
      "chain 4 |\u001b[34m██████████\u001b[0m| 00:06 Sampling completed                       \n"
     ]
    },
    {
     "name": "stdout",
     "output_type": "stream",
     "text": [
      "                                                                                                                                                                                                                                                                                                                                "
     ]
    },
    {
     "name": "stderr",
     "output_type": "stream",
     "text": [
      "INFO:cmdstanpy:CmdStan done processing.\n"
     ]
    },
    {
     "name": "stdout",
     "output_type": "stream",
     "text": [
      "\n"
     ]
    }
   ],
   "source": [
    "data_sim2_1 = {'N': N, 'K': 1, 'y': df2.loc[:, 'y[1]': f'y[{N}]'].values.reshape((N)), 'X': df2.loc[:, 'X[1,1]': f'X[{N},1]'].values.reshape((N, 1))}\n",
    "samples5_1 = model5.sample(data=data_sim2_1)\n",
    "\n",
    "data_sim2_2 = {'N': N, 'K': 2, 'y': df2.loc[:, 'y[1]' : f'y[{N}]'].values.reshape((N)), 'X': df2.loc[:, 'X[1,1]' : f'X[{N},2]'].values.reshape((N, 2))}\n",
    "samples5_2 = model5.sample(data=data_sim2_2)\n",
    "\n",
    "data_sim2_3 = {'N': N, 'K': 3, 'y': df2.loc[:, 'y[1]' : f'y[{N}]'].values.reshape((N)), 'X': df2.loc[:, 'X[1,1]' : f'X[{N},3]'].values.reshape((N, 3))}\n",
    "samples5_3 = model5.sample(data=data_sim2_3)"
   ]
  },
  {
   "cell_type": "code",
   "execution_count": 24,
   "metadata": {},
   "outputs": [
    {
     "data": {
      "text/html": [
       "<div>\n",
       "<style scoped>\n",
       "    .dataframe tbody tr th:only-of-type {\n",
       "        vertical-align: middle;\n",
       "    }\n",
       "\n",
       "    .dataframe tbody tr th {\n",
       "        vertical-align: top;\n",
       "    }\n",
       "\n",
       "    .dataframe thead th {\n",
       "        text-align: right;\n",
       "    }\n",
       "</style>\n",
       "<table border=\"1\" class=\"dataframe\">\n",
       "  <thead>\n",
       "    <tr style=\"text-align: right;\">\n",
       "      <th></th>\n",
       "      <th>rank</th>\n",
       "      <th>waic</th>\n",
       "      <th>p_waic</th>\n",
       "      <th>d_waic</th>\n",
       "      <th>weight</th>\n",
       "      <th>se</th>\n",
       "      <th>dse</th>\n",
       "      <th>warning</th>\n",
       "      <th>waic_scale</th>\n",
       "    </tr>\n",
       "  </thead>\n",
       "  <tbody>\n",
       "    <tr>\n",
       "      <th>1 predictor</th>\n",
       "      <td>0</td>\n",
       "      <td>3293.535883</td>\n",
       "      <td>2.038365</td>\n",
       "      <td>0.000000</td>\n",
       "      <td>1.0</td>\n",
       "      <td>41.263590</td>\n",
       "      <td>0.000000</td>\n",
       "      <td>False</td>\n",
       "      <td>deviance</td>\n",
       "    </tr>\n",
       "    <tr>\n",
       "      <th>2 predictors</th>\n",
       "      <td>1</td>\n",
       "      <td>4202.022663</td>\n",
       "      <td>3.071310</td>\n",
       "      <td>908.486779</td>\n",
       "      <td>0.0</td>\n",
       "      <td>41.834787</td>\n",
       "      <td>48.119245</td>\n",
       "      <td>False</td>\n",
       "      <td>deviance</td>\n",
       "    </tr>\n",
       "    <tr>\n",
       "      <th>3 predictors</th>\n",
       "      <td>2</td>\n",
       "      <td>4202.278697</td>\n",
       "      <td>4.086373</td>\n",
       "      <td>908.742814</td>\n",
       "      <td>0.0</td>\n",
       "      <td>42.097598</td>\n",
       "      <td>48.444226</td>\n",
       "      <td>False</td>\n",
       "      <td>deviance</td>\n",
       "    </tr>\n",
       "  </tbody>\n",
       "</table>\n",
       "</div>"
      ],
      "text/plain": [
       "              rank         waic    p_waic      d_waic  weight         se  \\\n",
       "1 predictor      0  3293.535883  2.038365    0.000000     1.0  41.263590   \n",
       "2 predictors     1  4202.022663  3.071310  908.486779     0.0  41.834787   \n",
       "3 predictors     2  4202.278697  4.086373  908.742814     0.0  42.097598   \n",
       "\n",
       "                    dse  warning waic_scale  \n",
       "1 predictor    0.000000    False   deviance  \n",
       "2 predictors  48.119245    False   deviance  \n",
       "3 predictors  48.444226    False   deviance  "
      ]
     },
     "execution_count": 24,
     "metadata": {},
     "output_type": "execute_result"
    }
   ],
   "source": [
    "compare_model_loo = az.compare({\"1 predictor\": az.from_cmdstanpy(samples5_1), \"2 predictors\": az.from_cmdstanpy(samples5_2), \"3 predictors\": az.from_cmdstanpy(samples5_3)},\n",
    "ic=\"loo\", scale=\"deviance\")\n",
    "compare_model_loo.head()\n",
    "\n",
    "compare_model_waic = az.compare({\"1 predictor\": az.from_cmdstanpy(samples5_1), \"2 predictors\": az.from_cmdstanpy(samples5_2), \"3 predictors\": az.from_cmdstanpy(samples5_3)},\n",
    "ic=\"waic\", scale=\"deviance\")\n",
    "compare_model_waic.head()"
   ]
  },
  {
   "cell_type": "code",
   "execution_count": 26,
   "metadata": {},
   "outputs": [
    {
     "data": {
      "image/png": "[encoded data removed]",
      "text/plain": [
       "<Figure size 1440x720 with 2 Axes>"
      ]
     },
     "metadata": {
      "needs_background": "light"
     },
     "output_type": "display_data"
    }
   ],
   "source": [
    "_, ax = plt.subplots(nrows=1, ncols=2, figsize=(20, 10))\n",
    "az.plot_compare(compare_model_loo, insample_dev=True, ax=ax[0])\n",
    "ax[0].set_title(\"LOO criteria\")\n",
    "az.plot_compare(compare_model_waic, insample_dev=True, ax=ax[1])\n",
    "ax[1].set_title(\"WAIC criteria\")\n",
    "plt.tight_layout()\n",
    "plt.show()"
   ]
  },
  {
   "attachments": {},
   "cell_type": "markdown",
   "metadata": {},
   "source": [
    "**The best among the analyzed models is the model with a single predictor since its LOO and WAIC criteria values are the lowest.**"
   ]
  }
 ],
 "metadata": {
  "kernelspec": {
   "display_name": "Python 3",
   "language": "python",
   "name": "python3"
  },
  "language_info": {
   "codemirror_mode": {
    "name": "ipython",
    "version": 3
   },
   "file_extension": ".py",
   "mimetype": "text/x-python",
   "name": "python",
   "nbconvert_exporter": "python",
   "pygments_lexer": "ipython3",
   "version": "3.9.11"
  },
  "orig_nbformat": 4
 },
 "nbformat": 4,
 "nbformat_minor": 2
}
